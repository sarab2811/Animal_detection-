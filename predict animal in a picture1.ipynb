{
 "cells": [
  {
   "cell_type": "markdown",
   "metadata": {},
   "source": [
    "\n",
    "\n",
    "## Project: Algorithm for animals detection usin ResNet \n",
    "\n"
   ]
  },
  {
   "cell_type": "code",
   "execution_count": 54,
   "metadata": {
    "scrolled": true
   },
   "outputs": [
    {
     "name": "stdout",
     "output_type": "stream",
     "text": [
      "There are 6680 training images.\n",
      "There are 835 validation images.\n",
      "There are 836 test images.\n"
     ]
    }
   ],
   "source": [
    "from sklearn.datasets import load_files       \n",
    "from keras.utils import np_utils\n",
    "import numpy as np\n",
    "from glob import glob\n",
    "\n",
    "# define function to load train, test, and validation datasets\n",
    "def load_dataset(path):\n",
    "    data = load_files(path)\n",
    "    m_files = np.array(data['filenames'])\n",
    "    m_targets = np_utils.to_categorical(np.array(data['target']), 133)\n",
    "    return m_files, m_targets\n",
    "\n",
    "# load train, test, and validation datasets\n",
    "train_files, train_targets = load_dataset('Images/Images/train')\n",
    "valid_files, valid_targets = load_dataset('Images/Images/valid')\n",
    "test_files, test_targets = load_dataset('Images/Images/test')\n",
    "\n",
    "print('There are %d training images.' % len(train_files))\n",
    "print('There are %d validation images.' % len(valid_files))\n",
    "print('There are %d test images.'% len(test_files))"
   ]
  },
  {
   "cell_type": "markdown",
   "metadata": {},
   "source": [
    "\n",
    "## Step 2: Detect Animal\n",
    "\n",
    "In this section, we use a pre-trained ResNet50 model to detect animals  in images. "
   ]
  },
  {
   "cell_type": "code",
   "execution_count": 55,
   "metadata": {
    "collapsed": true,
    "scrolled": true
   },
   "outputs": [],
   "source": [
    "#to download the ResNet-50 model, along with weights that have been trained onImageNet\n",
    "from keras.applications.resnet50 import ResNet50# to download the ResNet-50 modelwith weights when traind on ImageNet\n",
    "\n",
    "# define ResNet50 model\n",
    "ResNet50_model = ResNet50(weights='imagenet')"
   ]
  },
  {
   "cell_type": "markdown",
   "metadata": {},
   "source": [
    "### Pre-process the Data\n",
    "\n"
   ]
  },
  {
   "cell_type": "code",
   "execution_count": 56,
   "metadata": {},
   "outputs": [],
   "source": [
    "\"\"\"\n",
    "Keras CNNs require a 4D array as input, with shape\n",
    "\n",
    "(nb_samples,rows,columns,channels),\n",
    "(nb_samples,rows,columns,channels),\n",
    " \n",
    "\n",
    "The path_to_tensor function below takes a string-valued file path to a color image as input and returns a \n",
    "4D tensor suitable for supplying to a Keras CNN. The function first loads the image and resizes it to a \n",
    "square image that is  224×224224×224  pixels. Next, the image is converted to an array, which is then resized to a 4D tensor.\n",
    "the returned tensor will always have shape\n",
    "\n",
    "\n",
    "(1,224,224,3).\n",
    "(1,224,224,3).\n",
    " \n",
    "The paths_to_tensor function takes a numpy array of string-valued image paths as input and returns a 4D tensor with shape\n",
    "\n",
    "(nb_samples,224,224,3).\n",
    "(nb_samples,224,224,3).\n",
    " \n",
    "\"\"\"\n",
    "\n",
    "from keras.preprocessing import image                  \n",
    "from tqdm import tqdm\n",
    "\n",
    "def path_to_tensor(img_path):\n",
    "    # loads RGB image as PIL.Image.Image type\n",
    "    img = image.load_img(img_path, target_size=(224, 224))\n",
    "    # convert PIL.Image.Image type to 3D tensor with shape (224, 224, 3)\n",
    "    x = image.img_to_array(img)\n",
    "    # convert 3D tensor to 4D tensor with shape (1, 224, 224, 3) and return 4D tensor\n",
    "    return np.expand_dims(x, axis=0)\n",
    "\n",
    "def paths_to_tensor(img_paths):\n",
    "    list_of_tensors = [path_to_tensor(img_path) for img_path in tqdm(img_paths)]\n",
    "    return np.vstack(list_of_tensors)"
   ]
  },
  {
   "cell_type": "markdown",
   "metadata": {},
   "source": [
    "### Making Predictions with ResNet-50\n",
    "\n"
   ]
  },
  {
   "cell_type": "code",
   "execution_count": 57,
   "metadata": {
    "collapsed": true
   },
   "outputs": [],
   "source": [
    "from keras.applications.resnet50 import preprocess_input, decode_predictions\n",
    "\n",
    "def ResNet50_predict_labels(img_path):\n",
    "    # returns prediction vector for image located at img_path\n",
    "    img = preprocess_input(path_to_tensor(img_path))\n",
    "    return np.argmax(ResNet50_model.predict(img))"
   ]
  },
  {
   "cell_type": "markdown",
   "metadata": {},
   "source": [
    "### An animal preductor Detector\n"
   ]
  },
  {
   "cell_type": "code",
   "execution_count": 58,
   "metadata": {
    "collapsed": true
   },
   "outputs": [],
   "source": [
    "#categories corresponding to ms appear in an uninterrupted sequence and correspond to dictionary keys 151-268\n",
    "### returns \"True\" if a m is detected in the image stored at img_path\n",
    "def m_detector(img_path):\n",
    "    prediction = ResNet50_predict_labels(img_path)\n",
    "    return ((prediction <= 268) & (prediction >= 151)) "
   ]
  },
  {
   "cell_type": "markdown",
   "metadata": {},
   "source": [
    "### (IMPLEMENTATION) Assess the m Detector\n",
    "\n",
    "We will use Use the code cell below to test the performance of our detector` function.  \n"
   ]
  },
  {
   "cell_type": "code",
   "execution_count": 59,
   "metadata": {
    "collapsed": true
   },
   "outputs": [],
   "source": [
    "import matplotlib.pyplot as plt \n",
    "import cv2\n",
    "import io"
   ]
  },
  {
   "cell_type": "code",
   "execution_count": null,
   "metadata": {},
   "outputs": [],
   "source": [
    "img_test_path=\"D:\\Sub3_dog_breed\\Sub3_dog_breed/tree.jpg\"\n",
    "img=cv2.imread(img_test_path,cv2.IMREAD_GRAYSCALE)\n",
    "#img = io.imread(img_test_path)\n",
    "#io.imshow(A)\n",
    "plt.imshow(img,cmap='gray')\n",
    "plt.show()\n",
    "if(m_detector(img_test_path)):\n",
    "            print(\"there is animal in the picture \")\n",
    "else:\n",
    "        print(\"there is no animal in the picture \")"
   ]
  }
 ],
 "metadata": {
  "anaconda-cloud": {},
  "kernelspec": {
   "display_name": "Python [default]",
   "language": "python",
   "name": "python3"
  },
  "language_info": {
   "codemirror_mode": {
    "name": "ipython",
    "version": 3
   },
   "file_extension": ".py",
   "mimetype": "text/x-python",
   "name": "python",
   "nbconvert_exporter": "python",
   "pygments_lexer": "ipython3",
   "version": "3.6.4"
  }
 },
 "nbformat": 4,
 "nbformat_minor": 1
}
